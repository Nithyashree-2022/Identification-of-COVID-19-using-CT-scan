{
  "nbformat": 4,
  "nbformat_minor": 0,
  "metadata": {
    "colab": {
      "name": "Streamlit_code.ipynb",
      "provenance": [],
      "collapsed_sections": []
    },
    "kernelspec": {
      "name": "python3",
      "display_name": "Python 3"
    },
    "language_info": {
      "name": "python"
    }
  },
  "cells": [
    {
      "cell_type": "code",
      "metadata": {
        "colab": {
          "base_uri": "https://localhost:8080/"
        },
        "id": "687HYRLH3YBJ",
        "outputId": "b13c5066-a716-440a-cf1b-8865b84ce216"
      },
      "source": [
        "!pip install streamlit --quiet\n",
        "!pip install pyngrok==4.1.1 --quiet\n",
        "from pyngrok import ngrok"
      ],
      "execution_count": null,
      "outputs": [
        {
          "output_type": "stream",
          "name": "stdout",
          "text": [
            "\u001b[K     |████████████████████████████████| 9.1 MB 5.2 MB/s \n",
            "\u001b[K     |████████████████████████████████| 76 kB 2.4 MB/s \n",
            "\u001b[K     |████████████████████████████████| 178 kB 52.7 MB/s \n",
            "\u001b[K     |████████████████████████████████| 180 kB 45.7 MB/s \n",
            "\u001b[K     |████████████████████████████████| 4.3 MB 53.9 MB/s \n",
            "\u001b[K     |████████████████████████████████| 111 kB 57.0 MB/s \n",
            "\u001b[K     |████████████████████████████████| 63 kB 1.7 MB/s \n",
            "\u001b[K     |████████████████████████████████| 125 kB 56.8 MB/s \n",
            "\u001b[K     |████████████████████████████████| 790 kB 59.9 MB/s \n",
            "\u001b[K     |████████████████████████████████| 374 kB 67.4 MB/s \n",
            "\u001b[?25h  Building wheel for pympler (setup.py) ... \u001b[?25l\u001b[?25hdone\n",
            "  Building wheel for blinker (setup.py) ... \u001b[?25l\u001b[?25hdone\n",
            "\u001b[31mERROR: pip's dependency resolver does not currently take into account all the packages that are installed. This behaviour is the source of the following dependency conflicts.\n",
            "jupyter-console 5.2.0 requires prompt-toolkit<2.0.0,>=1.0.0, but you have prompt-toolkit 3.0.22 which is incompatible.\n",
            "google-colab 1.0.0 requires ipykernel~=4.10, but you have ipykernel 6.5.1 which is incompatible.\n",
            "google-colab 1.0.0 requires ipython~=5.5.0, but you have ipython 7.29.0 which is incompatible.\u001b[0m\n",
            "  Building wheel for pyngrok (setup.py) ... \u001b[?25l\u001b[?25hdone\n"
          ]
        }
      ]
    },
    {
      "cell_type": "code",
      "metadata": {
        "colab": {
          "base_uri": "https://localhost:8080/"
        },
        "id": "drXhkumfoMZs",
        "outputId": "6b46455e-d3fa-4d30-e99d-e9e1cc61a75b"
      },
      "source": [
        "from google.colab import drive\n",
        "drive.mount('drive')"
      ],
      "execution_count": null,
      "outputs": [
        {
          "output_type": "stream",
          "name": "stdout",
          "text": [
            "Mounted at drive\n"
          ]
        }
      ]
    },
    {
      "cell_type": "code",
      "metadata": {
        "id": "TyOemkx-bPyW",
        "colab": {
          "base_uri": "https://localhost:8080/"
        },
        "outputId": "ca735c49-5829-41eb-a6a3-551dcdd6b30d"
      },
      "source": [
        "%%writefile app.py\n",
        "import streamlit as st\n",
        "import tensorflow as tf\n",
        "\n",
        "import numpy as np\n",
        "from PIL import Image # Strreamlit works with PIL library very easily for Images\n",
        "import cv2\n",
        "\n",
        "model_path='/content/drive/MyDrive/MLH Project/model-recent.h5'\n",
        "\n",
        "st.title(\"COVID-19 Identification Using CT Scan\")\n",
        "upload = st.file_uploader('Upload a CT scan image')\n",
        "\n",
        "\n",
        "if upload is not None:\n",
        "  file_bytes = np.asarray(bytearray(upload.read()), dtype=np.uint8)\n",
        "  opencv_image = cv2.imdecode(file_bytes, 1)\n",
        "  opencv_image = cv2.cvtColor(opencv_image,cv2.COLOR_BGR2RGB) # Color from BGR to RGB\n",
        "  img = Image.open(upload)\n",
        "  st.image(img,caption='Uploaded Image',width=300)\n",
        "  if(st.button('Predict')):\n",
        "    model = tf.keras.models.load_model(model_path)\n",
        "    x = cv2.resize(opencv_image,(100,100))\n",
        "    x = np.expand_dims(x,axis=0)    \n",
        "    y = model.predict(x)\n",
        "    ans=np.argmax(y,axis=1)\n",
        "    if(ans==0):\n",
        "      st.title('COVID')\n",
        "    elif(ans==1):\n",
        "      st.title('Healthy')\n",
        "    else:\n",
        "      st.title('Other Pulmonary Disorder')\n",
        "  \n"
      ],
      "execution_count": null,
      "outputs": [
        {
          "output_type": "stream",
          "name": "stdout",
          "text": [
            "Writing app.py\n"
          ]
        }
      ]
    },
    {
      "cell_type": "code",
      "metadata": {
        "colab": {
          "base_uri": "https://localhost:8080/",
          "height": 53
        },
        "id": "kpJ9YX4O5BwM",
        "outputId": "1c9b037f-56e6-4038-8a72-b7fada5aa6fd"
      },
      "source": [
        "!nohup streamlit run app.py &\n",
        "url = ngrok.connect(port='8501')\n",
        "url"
      ],
      "execution_count": null,
      "outputs": [
        {
          "output_type": "stream",
          "name": "stdout",
          "text": [
            "nohup: appending output to 'nohup.out'\n"
          ]
        },
        {
          "output_type": "execute_result",
          "data": {
            "application/vnd.google.colaboratory.intrinsic+json": {
              "type": "string"
            },
            "text/plain": [
              "'http://7cfb-35-237-113-89.ngrok.io'"
            ]
          },
          "metadata": {},
          "execution_count": 4
        }
      ]
    },
    {
      "cell_type": "code",
      "metadata": {
        "id": "R5IQHUCrzJ8r"
      },
      "source": [
        ""
      ],
      "execution_count": null,
      "outputs": []
    }
  ]
}