{
  "nbformat": 4,
  "nbformat_minor": 0,
  "metadata": {
    "colab": {
      "name": "COVID-19_CT scan_multi-class.ipynb",
      "provenance": [],
      "collapsed_sections": []
    },
    "kernelspec": {
      "name": "python3",
      "display_name": "Python 3"
    },
    "language_info": {
      "name": "python"
    }
  },
  "cells": [
    {
      "cell_type": "code",
      "metadata": {
        "colab": {
          "base_uri": "https://localhost:8080/"
        },
        "id": "kjbiVJALDq64",
        "outputId": "9cc6ffe3-4990-45e4-8bdc-430b6ab59a67"
      },
      "source": [
        "from google.colab import drive\n",
        "drive.mount('drive')"
      ],
      "execution_count": 1,
      "outputs": [
        {
          "output_type": "stream",
          "name": "stdout",
          "text": [
            "Mounted at drive\n"
          ]
        }
      ]
    },
    {
      "cell_type": "markdown",
      "source": [
        "Step-1: Image Pre-processing"
      ],
      "metadata": {
        "id": "bG49Dkea8eNb"
      }
    },
    {
      "cell_type": "code",
      "metadata": {
        "id": "yIRVcwkzJUgl"
      },
      "source": [
        "from tensorflow.keras.layers import Input, Lambda, Dense, Flatten,Dropout,Conv2D,MaxPooling2D,BatchNormalization\n",
        "from tensorflow.keras.models import Model\n",
        "from tensorflow.keras.preprocessing import image\n",
        "from sklearn.metrics import accuracy_score,classification_report,confusion_matrix\n",
        "from tensorflow.keras.preprocessing.image import ImageDataGenerator\n",
        "from sklearn.model_selection import train_test_split\n",
        "from tensorflow.keras.models import Sequential\n",
        "import numpy as np\n",
        "import pandas as pd\n",
        "import os\n",
        "import cv2\n",
        "import matplotlib.pyplot as plt"
      ],
      "execution_count": 44,
      "outputs": []
    },
    {
      "cell_type": "code",
      "metadata": {
        "id": "ikm7iVB1JUgp"
      },
      "source": [
        "# re-size all the images to this\n",
        "IMAGE_SIZE = (100,100)\n"
      ],
      "execution_count": 3,
      "outputs": []
    },
    {
      "cell_type": "code",
      "metadata": {
        "id": "RFJCcBo2JUgp",
        "colab": {
          "base_uri": "https://localhost:8080/",
          "height": 134
        },
        "outputId": "9a141ada-0822-4feb-c67c-5e5d3cab7ef6"
      },
      "source": [
        "\n",
        "\n",
        "from google.colab.patches import cv2_imshow\n",
        "a=cv2.imread(\"/content/drive/MyDrive/MLH Project/dataset/Covid/Patient/10.png\")\n",
        "a=cv2.resize(a,IMAGE_SIZE)\n",
        "cv2_imshow(a)\n",
        "print(a.shape)\n",
        "\n",
        "\n"
      ],
      "execution_count": 4,
      "outputs": [
        {
          "output_type": "display_data",
          "data": {
            "image/png": "[encoded data removed]",
            "text/plain": [
              "<PIL.Image.Image image mode=RGB size=100x100 at 0x7FD45193FB90>"
            ]
          },
          "metadata": {}
        },
        {
          "output_type": "stream",
          "name": "stdout",
          "text": [
            "(100, 100, 3)\n"
          ]
        }
      ]
    },
    {
      "cell_type": "code",
      "metadata": {
        "id": "8igPQECbRMyz"
      },
      "source": [
        "path=\"/content/drive/MyDrive/MLH Project/dataset\""
      ],
      "execution_count": 5,
      "outputs": []
    },
    {
      "cell_type": "code",
      "metadata": {
        "id": "Txpa8iADJUgq",
        "colab": {
          "base_uri": "https://localhost:8080/"
        },
        "outputId": "7e66f526-d10f-43f9-9125-f3305f5940b7"
      },
      "source": [
        "data=[]\n",
        "c=0\n",
        "\n",
        "for folder in os.listdir(path):\n",
        "    sub_path=path+\"/\"+folder\n",
        "    for folder2 in os.listdir(sub_path):\n",
        "      sub_path2=sub_path+\"/\"+folder2\n",
        "      for img in os.listdir(sub_path2):\n",
        "        image_path=sub_path2+\"/\"+img        \n",
        "        img_arr=cv2.imread(image_path)\n",
        "        try:\n",
        "          img_arr=cv2.resize(img_arr,IMAGE_SIZE)\n",
        "          data.append(img_arr)\n",
        "        except:\n",
        "          c+=1\n",
        "          continue\n",
        "        \n",
        "\n",
        "print(\"Number of images skipped= \",c)"
      ],
      "execution_count": 6,
      "outputs": [
        {
          "output_type": "stream",
          "name": "stdout",
          "text": [
            "Number of images skipped=  2\n"
          ]
        }
      ]
    },
    {
      "cell_type": "code",
      "metadata": {
        "id": "d4ECtrgYJUgr"
      },
      "source": [
        "x=np.array(data)\n",
        "\n"
      ],
      "execution_count": 7,
      "outputs": []
    },
    {
      "cell_type": "code",
      "metadata": {
        "id": "c8hoZIP5JUgs",
        "colab": {
          "base_uri": "https://localhost:8080/"
        },
        "outputId": "8c59edfc-374b-44e6-9dd4-06201110c978"
      },
      "source": [
        "x.shape"
      ],
      "execution_count": 8,
      "outputs": [
        {
          "output_type": "execute_result",
          "data": {
            "text/plain": [
              "(4171, 100, 100, 3)"
            ]
          },
          "metadata": {},
          "execution_count": 8
        }
      ]
    },
    {
      "cell_type": "code",
      "metadata": {
        "id": "-Drr3H0DJUgt"
      },
      "source": [
        "x=x/255.0\n"
      ],
      "execution_count": 9,
      "outputs": []
    },
    {
      "cell_type": "code",
      "metadata": {
        "id": "lHWvwtycfbC4",
        "colab": {
          "base_uri": "https://localhost:8080/"
        },
        "outputId": "8a887f8b-a26a-4d04-c173-db60b2086e4f"
      },
      "source": [
        "\n",
        "datagen = ImageDataGenerator(rescale = 1./255)\n",
        "dataset = datagen.flow_from_directory(path,\n",
        "                                      target_size = IMAGE_SIZE,\n",
        "                                      batch_size = 32,\n",
        "                                      class_mode = 'sparse')\n",
        "\n",
        "\n"
      ],
      "execution_count": 10,
      "outputs": [
        {
          "output_type": "stream",
          "name": "stdout",
          "text": [
            "Found 4171 images belonging to 3 classes.\n"
          ]
        }
      ]
    },
    {
      "cell_type": "code",
      "metadata": {
        "id": "LuiDgzp4fbC4",
        "colab": {
          "base_uri": "https://localhost:8080/"
        },
        "outputId": "b910ca80-ece8-49e7-c8a8-24e16d868048"
      },
      "source": [
        "dataset.class_indices"
      ],
      "execution_count": 11,
      "outputs": [
        {
          "output_type": "execute_result",
          "data": {
            "text/plain": [
              "{'Covid': 0, 'Healthy': 1, 'Others': 2}"
            ]
          },
          "metadata": {},
          "execution_count": 11
        }
      ]
    },
    {
      "cell_type": "code",
      "metadata": {
        "id": "3KvdbkeMfbC5"
      },
      "source": [
        "y=dataset.classes"
      ],
      "execution_count": 12,
      "outputs": []
    },
    {
      "cell_type": "code",
      "metadata": {
        "id": "IzK4ERlgfbC5",
        "colab": {
          "base_uri": "https://localhost:8080/"
        },
        "outputId": "d209db3c-374d-4e19-e8c0-3d8fa740a276"
      },
      "source": [
        "y.shape"
      ],
      "execution_count": 13,
      "outputs": [
        {
          "output_type": "execute_result",
          "data": {
            "text/plain": [
              "(4171,)"
            ]
          },
          "metadata": {},
          "execution_count": 13
        }
      ]
    },
    {
      "cell_type": "markdown",
      "source": [
        "Step-2: Train-test-val split"
      ],
      "metadata": {
        "id": "DxU_KAjk8jlG"
      }
    },
    {
      "cell_type": "code",
      "metadata": {
        "id": "wrs62k_TKcWH"
      },
      "source": [
        "\n",
        "x_train,x_test,y_train,y_test=train_test_split(x,y,test_size=0.1)\n",
        "x_train,x_val,y_train,y_val=train_test_split(x_train,y_train,test_size=0.2)\n"
      ],
      "execution_count": 14,
      "outputs": []
    },
    {
      "cell_type": "code",
      "metadata": {
        "id": "mo9IyrceMTbE",
        "colab": {
          "base_uri": "https://localhost:8080/"
        },
        "outputId": "92defa7e-dfd8-41fb-e8a8-7afd56cd1388"
      },
      "source": [
        "x_train.shape,y_train.shape"
      ],
      "execution_count": 15,
      "outputs": [
        {
          "output_type": "execute_result",
          "data": {
            "text/plain": [
              "((3002, 100, 100, 3), (3002,))"
            ]
          },
          "metadata": {},
          "execution_count": 15
        }
      ]
    },
    {
      "cell_type": "code",
      "metadata": {
        "id": "-7bDcvTOMVw5",
        "colab": {
          "base_uri": "https://localhost:8080/"
        },
        "outputId": "b194cb1c-4aac-44d4-b614-44674427f2a1"
      },
      "source": [
        "x_val.shape,y_val.shape"
      ],
      "execution_count": 16,
      "outputs": [
        {
          "output_type": "execute_result",
          "data": {
            "text/plain": [
              "((751, 100, 100, 3), (751,))"
            ]
          },
          "metadata": {},
          "execution_count": 16
        }
      ]
    },
    {
      "cell_type": "code",
      "metadata": {
        "id": "spR9FSfBMVyu",
        "colab": {
          "base_uri": "https://localhost:8080/"
        },
        "outputId": "8bc91d21-21f9-4571-ea09-a9ec4432b677"
      },
      "source": [
        "x_test.shape,y_test.shape"
      ],
      "execution_count": 17,
      "outputs": [
        {
          "output_type": "execute_result",
          "data": {
            "text/plain": [
              "((418, 100, 100, 3), (418,))"
            ]
          },
          "metadata": {},
          "execution_count": 17
        }
      ]
    },
    {
      "cell_type": "markdown",
      "source": [
        "Step-3: Model building"
      ],
      "metadata": {
        "id": "7WNHEfzV8nJg"
      }
    },
    {
      "cell_type": "code",
      "metadata": {
        "id": "mztb9oYdNmJI",
        "colab": {
          "base_uri": "https://localhost:8080/"
        },
        "outputId": "079410ad-fb69-4729-d679-9e02793fbb7d"
      },
      "source": [
        "model=Sequential()\n",
        "\n",
        "#covolution layer\n",
        "model.add(Conv2D(32,(3,3),activation='relu',input_shape=(100,100,3)))\n",
        "#pooling layer\n",
        "model.add(MaxPooling2D(2,2))\n",
        "model.add(BatchNormalization())\n",
        "\n",
        "\n",
        "#covolution layer\n",
        "model.add(Conv2D(32,(3,3),activation='relu'))\n",
        "#pooling layer\n",
        "model.add(MaxPooling2D(2,2))\n",
        "model.add(BatchNormalization())\n",
        "\n",
        "#covolution layer\n",
        "model.add(Conv2D(64,(3,3),activation='relu'))\n",
        "#pooling layer\n",
        "model.add(MaxPooling2D(2,2))\n",
        "model.add(BatchNormalization())\n",
        "\n",
        "#covolution layer\n",
        "model.add(Conv2D(64,(3,3),activation='relu'))\n",
        "#pooling layer\n",
        "model.add(MaxPooling2D(2,2))\n",
        "model.add(BatchNormalization())\n",
        "\n",
        "#i/p layer\n",
        "model.add(Flatten())\n",
        "\n",
        "\n",
        "#o/p layer\n",
        "model.add(Dense(3,activation='softmax'))\n",
        "\n",
        "\n",
        "model.summary()"
      ],
      "execution_count": 56,
      "outputs": [
        {
          "output_type": "stream",
          "name": "stdout",
          "text": [
            "Model: \"sequential_11\"\n",
            "_________________________________________________________________\n",
            " Layer (type)                Output Shape              Param #   \n",
            "=================================================================\n",
            " conv2d_45 (Conv2D)          (None, 98, 98, 32)        896       \n",
            "                                                                 \n",
            " max_pooling2d_44 (MaxPoolin  (None, 49, 49, 32)       0         \n",
            " g2D)                                                            \n",
            "                                                                 \n",
            " batch_normalization_12 (Bat  (None, 49, 49, 32)       128       \n",
            " chNormalization)                                                \n",
            "                                                                 \n",
            " conv2d_46 (Conv2D)          (None, 47, 47, 32)        9248      \n",
            "                                                                 \n",
            " max_pooling2d_45 (MaxPoolin  (None, 23, 23, 32)       0         \n",
            " g2D)                                                            \n",
            "                                                                 \n",
            " batch_normalization_13 (Bat  (None, 23, 23, 32)       128       \n",
            " chNormalization)                                                \n",
            "                                                                 \n",
            " conv2d_47 (Conv2D)          (None, 21, 21, 64)        18496     \n",
            "                                                                 \n",
            " max_pooling2d_46 (MaxPoolin  (None, 10, 10, 64)       0         \n",
            " g2D)                                                            \n",
            "                                                                 \n",
            " batch_normalization_14 (Bat  (None, 10, 10, 64)       256       \n",
            " chNormalization)                                                \n",
            "                                                                 \n",
            " conv2d_48 (Conv2D)          (None, 8, 8, 64)          36928     \n",
            "                                                                 \n",
            " max_pooling2d_47 (MaxPoolin  (None, 4, 4, 64)         0         \n",
            " g2D)                                                            \n",
            "                                                                 \n",
            " batch_normalization_15 (Bat  (None, 4, 4, 64)         256       \n",
            " chNormalization)                                                \n",
            "                                                                 \n",
            " flatten_9 (Flatten)         (None, 1024)              0         \n",
            "                                                                 \n",
            " dense_12 (Dense)            (None, 3)                 3075      \n",
            "                                                                 \n",
            "=================================================================\n",
            "Total params: 69,411\n",
            "Trainable params: 69,027\n",
            "Non-trainable params: 384\n",
            "_________________________________________________________________\n"
          ]
        }
      ]
    },
    {
      "cell_type": "code",
      "metadata": {
        "id": "C0kAIASTqGUM"
      },
      "source": [
        "#compile model:\n",
        "model.compile(optimizer='adam',loss='sparse_categorical_crossentropy',metrics=['accuracy'])"
      ],
      "execution_count": 57,
      "outputs": []
    },
    {
      "cell_type": "code",
      "metadata": {
        "id": "3c-InKoJ8vZV"
      },
      "source": [
        "from tensorflow.keras.callbacks import EarlyStopping\n",
        "early_stop=EarlyStopping(monitor='val_loss',mode='min',verbose=1,patience=5)\n",
        "\n",
        "#Early stopping to avoid overfitting of model"
      ],
      "execution_count": 58,
      "outputs": []
    },
    {
      "cell_type": "code",
      "metadata": {
        "id": "3141xs8mqTsI",
        "colab": {
          "base_uri": "https://localhost:8080/"
        },
        "outputId": "1716590c-3d36-454b-c9d2-dc1a097204d3"
      },
      "source": [
        "history=model.fit(x_train,y_train,validation_data=(x_val,y_val),epochs=30,callbacks=[early_stop],shuffle=True)"
      ],
      "execution_count": 59,
      "outputs": [
        {
          "output_type": "stream",
          "name": "stdout",
          "text": [
            "Epoch 1/30\n",
            "94/94 [==============================] - 41s 426ms/step - loss: 0.9774 - accuracy: 0.5849 - val_loss: 0.9958 - val_accuracy: 0.5379\n",
            "Epoch 2/30\n",
            "94/94 [==============================] - 39s 418ms/step - loss: 0.6936 - accuracy: 0.7012 - val_loss: 1.0990 - val_accuracy: 0.3569\n",
            "Epoch 3/30\n",
            "94/94 [==============================] - 40s 424ms/step - loss: 0.5573 - accuracy: 0.7722 - val_loss: 0.9682 - val_accuracy: 0.5047\n",
            "Epoch 4/30\n",
            "94/94 [==============================] - 40s 429ms/step - loss: 0.4426 - accuracy: 0.8294 - val_loss: 1.3763 - val_accuracy: 0.3369\n",
            "Epoch 5/30\n",
            "94/94 [==============================] - 40s 423ms/step - loss: 0.3158 - accuracy: 0.9007 - val_loss: 1.1959 - val_accuracy: 0.4594\n",
            "Epoch 6/30\n",
            "94/94 [==============================] - 39s 418ms/step - loss: 0.2370 - accuracy: 0.9290 - val_loss: 0.6093 - val_accuracy: 0.7550\n",
            "Epoch 7/30\n",
            "94/94 [==============================] - 40s 420ms/step - loss: 0.1387 - accuracy: 0.9714 - val_loss: 0.5834 - val_accuracy: 0.7497\n",
            "Epoch 8/30\n",
            "94/94 [==============================] - 39s 419ms/step - loss: 0.0786 - accuracy: 0.9900 - val_loss: 0.8464 - val_accuracy: 0.6698\n",
            "Epoch 9/30\n",
            "94/94 [==============================] - 39s 416ms/step - loss: 0.0483 - accuracy: 0.9970 - val_loss: 0.6163 - val_accuracy: 0.7670\n",
            "Epoch 10/30\n",
            "94/94 [==============================] - 39s 418ms/step - loss: 0.0219 - accuracy: 1.0000 - val_loss: 0.6126 - val_accuracy: 0.7763\n",
            "Epoch 11/30\n",
            "94/94 [==============================] - 39s 420ms/step - loss: 0.0111 - accuracy: 1.0000 - val_loss: 0.5591 - val_accuracy: 0.7936\n",
            "Epoch 12/30\n",
            "94/94 [==============================] - 39s 420ms/step - loss: 0.0067 - accuracy: 1.0000 - val_loss: 0.5928 - val_accuracy: 0.7909\n",
            "Epoch 13/30\n",
            "94/94 [==============================] - 40s 424ms/step - loss: 0.0053 - accuracy: 1.0000 - val_loss: 0.6033 - val_accuracy: 0.7843\n",
            "Epoch 14/30\n",
            "94/94 [==============================] - 40s 422ms/step - loss: 0.0043 - accuracy: 1.0000 - val_loss: 0.6014 - val_accuracy: 0.7883\n",
            "Epoch 15/30\n",
            "94/94 [==============================] - 39s 420ms/step - loss: 0.0035 - accuracy: 1.0000 - val_loss: 0.6227 - val_accuracy: 0.7883\n",
            "Epoch 16/30\n",
            "94/94 [==============================] - 40s 422ms/step - loss: 0.0029 - accuracy: 1.0000 - val_loss: 0.6240 - val_accuracy: 0.7883\n",
            "Epoch 00016: early stopping\n"
          ]
        }
      ]
    },
    {
      "cell_type": "code",
      "metadata": {
        "id": "KdrdxgLXqu3Y",
        "colab": {
          "base_uri": "https://localhost:8080/",
          "height": 265
        },
        "outputId": "c4957c18-f872-4b57-94e9-9417ebb4d31f"
      },
      "source": [
        "plt.plot(history.history['loss'],label='train loss')\n",
        "plt.plot(history.history['val_loss'],label='val loss')\n",
        "plt.legend()\n",
        "\n",
        "plt.savefig('loss-graph.png')\n",
        "plt.show()"
      ],
      "execution_count": 60,
      "outputs": [
        {
          "output_type": "display_data",
          "data": {
            "image/png": "[encoded data removed]",
            "text/plain": [
              "<Figure size 432x288 with 1 Axes>"
            ]
          },
          "metadata": {
            "needs_background": "light"
          }
        }
      ]
    },
    {
      "cell_type": "code",
      "metadata": {
        "id": "7yoQuUGQgxsR",
        "colab": {
          "base_uri": "https://localhost:8080/",
          "height": 265
        },
        "outputId": "df519af2-5bc7-4bdf-9e8c-ae4788c5ac14"
      },
      "source": [
        "# accuracies\n",
        "plt.plot(history.history['accuracy'], label='train acc')\n",
        "plt.plot(history.history['val_accuracy'], label='val acc')\n",
        "plt.legend()\n",
        "\n",
        "plt.savefig('acc-graph.png')\n",
        "plt.show()"
      ],
      "execution_count": 61,
      "outputs": [
        {
          "output_type": "display_data",
          "data": {
            "image/png": "[encoded data removed]",
            "text/plain": [
              "<Figure size 432x288 with 1 Axes>"
            ]
          },
          "metadata": {
            "needs_background": "light"
          }
        }
      ]
    },
    {
      "cell_type": "code",
      "metadata": {
        "id": "aIgzLSQ1Plo9",
        "colab": {
          "base_uri": "https://localhost:8080/"
        },
        "outputId": "9cc3c3d3-55de-4858-b988-c792057db8ca"
      },
      "source": [
        "y_val_pred=model.predict(x_val)\n",
        "y_val_pred=np.argmax(y_val_pred,axis=1)\n",
        "print(classification_report(y_val_pred,y_val))"
      ],
      "execution_count": 62,
      "outputs": [
        {
          "output_type": "stream",
          "name": "stdout",
          "text": [
            "              precision    recall  f1-score   support\n",
            "\n",
            "           0       0.88      0.82      0.85       432\n",
            "           1       0.56      0.69      0.62       108\n",
            "           2       0.77      0.77      0.77       211\n",
            "\n",
            "    accuracy                           0.79       751\n",
            "   macro avg       0.73      0.76      0.75       751\n",
            "weighted avg       0.80      0.79      0.79       751\n",
            "\n"
          ]
        }
      ]
    },
    {
      "cell_type": "code",
      "metadata": {
        "id": "94WtERvpPx2L",
        "colab": {
          "base_uri": "https://localhost:8080/"
        },
        "outputId": "4ba852a6-2bbd-4597-a77f-80bd0d1dc356"
      },
      "source": [
        "confusion_matrix(y_val_pred,y_val)"
      ],
      "execution_count": 63,
      "outputs": [
        {
          "output_type": "execute_result",
          "data": {
            "text/plain": [
              "array([[354,  41,  37],\n",
              "       [ 20,  75,  13],\n",
              "       [ 30,  18, 163]])"
            ]
          },
          "metadata": {},
          "execution_count": 63
        }
      ]
    },
    {
      "cell_type": "code",
      "metadata": {
        "id": "DRfkOM2MfbC8"
      },
      "source": [
        "y_pred=model.predict(x_test)\n",
        "y_pred=np.argmax(y_pred,axis=1)"
      ],
      "execution_count": 64,
      "outputs": []
    },
    {
      "cell_type": "code",
      "metadata": {
        "id": "Jvm8SWRofbC8",
        "colab": {
          "base_uri": "https://localhost:8080/"
        },
        "outputId": "c4895163-98d7-4142-ec06-91bbc53be8c1"
      },
      "source": [
        "accuracy_score(y_pred,y_test)"
      ],
      "execution_count": 65,
      "outputs": [
        {
          "output_type": "execute_result",
          "data": {
            "text/plain": [
              "0.7488038277511961"
            ]
          },
          "metadata": {},
          "execution_count": 65
        }
      ]
    },
    {
      "cell_type": "code",
      "metadata": {
        "id": "2oUHupbKfbC8",
        "colab": {
          "base_uri": "https://localhost:8080/"
        },
        "outputId": "02e15282-58a2-4b5d-9aa9-03ddb8c764f7"
      },
      "source": [
        "print(classification_report(y_pred,y_test))"
      ],
      "execution_count": 66,
      "outputs": [
        {
          "output_type": "stream",
          "name": "stdout",
          "text": [
            "              precision    recall  f1-score   support\n",
            "\n",
            "           0       0.85      0.76      0.80       243\n",
            "           1       0.41      0.56      0.47        52\n",
            "           2       0.77      0.81      0.79       123\n",
            "\n",
            "    accuracy                           0.75       418\n",
            "   macro avg       0.68      0.71      0.69       418\n",
            "weighted avg       0.77      0.75      0.76       418\n",
            "\n"
          ]
        }
      ]
    },
    {
      "cell_type": "code",
      "metadata": {
        "id": "afcrW8fofbC9",
        "colab": {
          "base_uri": "https://localhost:8080/"
        },
        "outputId": "e85a6507-5d7c-4cfd-f654-1b07897c7dde"
      },
      "source": [
        "confusion_matrix(y_pred,y_test)"
      ],
      "execution_count": 67,
      "outputs": [
        {
          "output_type": "execute_result",
          "data": {
            "text/plain": [
              "array([[184,  37,  22],\n",
              "       [ 15,  29,   8],\n",
              "       [ 18,   5, 100]])"
            ]
          },
          "metadata": {},
          "execution_count": 67
        }
      ]
    },
    {
      "cell_type": "code",
      "metadata": {
        "id": "h__0af34qDAb"
      },
      "source": [
        "model.save('/content/drive/MyDrive/MLH Project/model-recent.h5')"
      ],
      "execution_count": 68,
      "outputs": []
    }
  ]
}